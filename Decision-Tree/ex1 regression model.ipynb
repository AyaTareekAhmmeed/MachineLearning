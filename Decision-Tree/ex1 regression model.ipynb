{
 "cells": [
  {
   "cell_type": "code",
   "execution_count": 1,
   "id": "88f23dc0",
   "metadata": {},
   "outputs": [],
   "source": [
    "#Import Libraries\n",
    "from sklearn.datasets import load_boston\n",
    "from sklearn.model_selection import train_test_split\n",
    "from sklearn.tree import DecisionTreeRegressor\n",
    "from sklearn.metrics import mean_absolute_error \n",
    "from sklearn.metrics import mean_squared_error \n",
    "from sklearn.metrics import median_absolute_error"
   ]
  },
  {
   "cell_type": "code",
   "execution_count": 2,
   "id": "281e2cef",
   "metadata": {},
   "outputs": [
    {
     "name": "stdout",
     "output_type": "stream",
     "text": [
      "X Data is \n",
      " [[6.3200e-03 1.8000e+01 2.3100e+00 0.0000e+00 5.3800e-01 6.5750e+00\n",
      "  6.5200e+01 4.0900e+00 1.0000e+00 2.9600e+02 1.5300e+01 3.9690e+02\n",
      "  4.9800e+00]\n",
      " [2.7310e-02 0.0000e+00 7.0700e+00 0.0000e+00 4.6900e-01 6.4210e+00\n",
      "  7.8900e+01 4.9671e+00 2.0000e+00 2.4200e+02 1.7800e+01 3.9690e+02\n",
      "  9.1400e+00]\n",
      " [2.7290e-02 0.0000e+00 7.0700e+00 0.0000e+00 4.6900e-01 7.1850e+00\n",
      "  6.1100e+01 4.9671e+00 2.0000e+00 2.4200e+02 1.7800e+01 3.9283e+02\n",
      "  4.0300e+00]\n",
      " [3.2370e-02 0.0000e+00 2.1800e+00 0.0000e+00 4.5800e-01 6.9980e+00\n",
      "  4.5800e+01 6.0622e+00 3.0000e+00 2.2200e+02 1.8700e+01 3.9463e+02\n",
      "  2.9400e+00]\n",
      " [6.9050e-02 0.0000e+00 2.1800e+00 0.0000e+00 4.5800e-01 7.1470e+00\n",
      "  5.4200e+01 6.0622e+00 3.0000e+00 2.2200e+02 1.8700e+01 3.9690e+02\n",
      "  5.3300e+00]\n",
      " [2.9850e-02 0.0000e+00 2.1800e+00 0.0000e+00 4.5800e-01 6.4300e+00\n",
      "  5.8700e+01 6.0622e+00 3.0000e+00 2.2200e+02 1.8700e+01 3.9412e+02\n",
      "  5.2100e+00]\n",
      " [8.8290e-02 1.2500e+01 7.8700e+00 0.0000e+00 5.2400e-01 6.0120e+00\n",
      "  6.6600e+01 5.5605e+00 5.0000e+00 3.1100e+02 1.5200e+01 3.9560e+02\n",
      "  1.2430e+01]\n",
      " [1.4455e-01 1.2500e+01 7.8700e+00 0.0000e+00 5.2400e-01 6.1720e+00\n",
      "  9.6100e+01 5.9505e+00 5.0000e+00 3.1100e+02 1.5200e+01 3.9690e+02\n",
      "  1.9150e+01]\n",
      " [2.1124e-01 1.2500e+01 7.8700e+00 0.0000e+00 5.2400e-01 5.6310e+00\n",
      "  1.0000e+02 6.0821e+00 5.0000e+00 3.1100e+02 1.5200e+01 3.8663e+02\n",
      "  2.9930e+01]\n",
      " [1.7004e-01 1.2500e+01 7.8700e+00 0.0000e+00 5.2400e-01 6.0040e+00\n",
      "  8.5900e+01 6.5921e+00 5.0000e+00 3.1100e+02 1.5200e+01 3.8671e+02\n",
      "  1.7100e+01]]\n",
      "X shape is  (506, 13)\n",
      "X Features are \n",
      " ['CRIM' 'ZN' 'INDUS' 'CHAS' 'NOX' 'RM' 'AGE' 'DIS' 'RAD' 'TAX' 'PTRATIO'\n",
      " 'B' 'LSTAT']\n",
      "y Data is \n",
      " [24.  21.6 34.7 33.4 36.2 28.7 22.9 27.1 16.5 18.9]\n",
      "y shape is  (506,)\n"
     ]
    }
   ],
   "source": [
    "#load boston data\n",
    "\n",
    "BostonData = load_boston()\n",
    "\n",
    "#X Data\n",
    "X = BostonData.data\n",
    "print('X Data is \\n' , X[:10])\n",
    "print('X shape is ' , X.shape)\n",
    "print('X Features are \\n' , BostonData.feature_names)\n",
    "\n",
    "#y Data\n",
    "y = BostonData.target\n",
    "print('y Data is \\n' , y[:10])\n",
    "print('y shape is ' , y.shape)"
   ]
  },
  {
   "cell_type": "code",
   "execution_count": 3,
   "id": "1decb859",
   "metadata": {},
   "outputs": [
    {
     "name": "stdout",
     "output_type": "stream",
     "text": [
      "X_train shape is  (339, 13)\n",
      "X_test shape is  (167, 13)\n",
      "y_train shape is  (339,)\n",
      "y_test shape is  (167,)\n"
     ]
    }
   ],
   "source": [
    "#Splitting data\n",
    "\n",
    "X_train, X_test, y_train, y_test = train_test_split(X, y, test_size=0.33, random_state=44, shuffle =True)\n",
    "\n",
    "#Splitted Data\n",
    "print('X_train shape is ' , X_train.shape)\n",
    "print('X_test shape is ' , X_test.shape)\n",
    "print('y_train shape is ' , y_train.shape)\n",
    "print('y_test shape is ' , y_test.shape)"
   ]
  },
  {
   "cell_type": "code",
   "execution_count": 4,
   "id": "9e2d5682",
   "metadata": {},
   "outputs": [
    {
     "name": "stdout",
     "output_type": "stream",
     "text": [
      "DecisionTreeRegressor Train Score is :  0.8297516164795018\n",
      "DecisionTreeRegressor Test Score is :  0.794253405766872\n"
     ]
    }
   ],
   "source": [
    "#Applying DecisionTreeRegressor Model \n",
    "\n",
    "'''\n",
    "sklearn.tree.DecisionTreeRegressor(criterion='mse’, splitter=’best’, max_depth=None,min_samples_split=2,\n",
    "                                   min_samples_leaf=1,min_weight_fraction_leaf=0.0, max_features=None,\n",
    "                                   random_state=None, max_leaf_nodes=None,min_impurity_decrease=0.0,\n",
    "                                   min_impurity_split=None, presort=False)\n",
    "'''\n",
    "\n",
    "DecisionTreeRegressorModel = DecisionTreeRegressor( max_depth=3,random_state=33) #max_depth=3 means num of depth layers\n",
    "DecisionTreeRegressorModel.fit(X_train, y_train) #fit foe applying algorethms on model and get output\n",
    "\n",
    "#Calculating Details\n",
    "print('DecisionTreeRegressor Train Score is : ' , DecisionTreeRegressorModel.score(X_train, y_train))\n",
    "print('DecisionTreeRegressor Test Score is : ' , DecisionTreeRegressorModel.score(X_test, y_test))"
   ]
  },
  {
   "cell_type": "code",
   "execution_count": 5,
   "id": "ff5aec6a",
   "metadata": {},
   "outputs": [
    {
     "name": "stdout",
     "output_type": "stream",
     "text": [
      "Predicted Value for DecisionTreeRegressorModel is :  [16.28461538 16.28461538 20.44404762 24.90421053 20.44404762 34.5125\n",
      " 20.44404762 20.44404762 24.90421053 24.90421053]\n",
      "Actual Value for DecisionTreeRegressorModel is :  [17.8 21.5 21.2 32.4 10.9 31.7 21.4 24.3 29.1 25. ]\n"
     ]
    }
   ],
   "source": [
    "#Calculating Prediction\n",
    "y_pred = DecisionTreeRegressorModel.predict(X_test)\n",
    "print('Predicted Value for DecisionTreeRegressorModel is : ' , y_pred[:10])\n",
    "\n",
    "#Actual y\n",
    "print('Actual Value for DecisionTreeRegressorModel is : ' , y_test[:10])"
   ]
  },
  {
   "cell_type": "code",
   "execution_count": 6,
   "id": "b88c9b82",
   "metadata": {},
   "outputs": [
    {
     "name": "stdout",
     "output_type": "stream",
     "text": [
      "Mean Absolute Error Value is :  3.3550916599170204\n",
      "Mean Squared Error Value is :  20.2367910405378\n",
      "Median Squared Error Value is :  2.663043478260871\n"
     ]
    }
   ],
   "source": [
    "#calculating error for regression\n",
    "#Calculating Mean Absolute Error\n",
    "MAEValue = mean_absolute_error(y_test, y_pred, multioutput='uniform_average') # it can be raw_values\n",
    "print('Mean Absolute Error Value is : ', MAEValue)\n",
    "\n",
    "#----------------------------------------------------\n",
    "#Calculating Mean Squared Error\n",
    "MSEValue = mean_squared_error(y_test, y_pred, multioutput='uniform_average') # it can be raw_values\n",
    "print('Mean Squared Error Value is : ', MSEValue)\n",
    "\n",
    "#----------------------------------------------------\n",
    "#Calculating Median Squared Error\n",
    "MdSEValue = median_absolute_error(y_test, y_pred)\n",
    "print('Median Squared Error Value is : ', MdSEValue )"
   ]
  }
 ],
 "metadata": {
  "kernelspec": {
   "display_name": "Python 3",
   "language": "python",
   "name": "python3"
  },
  "language_info": {
   "codemirror_mode": {
    "name": "ipython",
    "version": 3
   },
   "file_extension": ".py",
   "mimetype": "text/x-python",
   "name": "python",
   "nbconvert_exporter": "python",
   "pygments_lexer": "ipython3",
   "version": "3.8.8"
  }
 },
 "nbformat": 4,
 "nbformat_minor": 5
}
