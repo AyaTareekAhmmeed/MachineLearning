{
 "cells": [
  {
   "cell_type": "code",
   "execution_count": 1,
   "id": "8b5fb97a",
   "metadata": {},
   "outputs": [],
   "source": [
    "#Import Libraries\n",
    "from sklearn.datasets import load_breast_cancer\n",
    "from sklearn.model_selection import train_test_split\n",
    "from sklearn.tree import DecisionTreeClassifier #Classifier DecisionTree\n",
    "from sklearn.metrics import confusion_matrix\n",
    "import seaborn as sns\n",
    "import matplotlib.pyplot as plt"
   ]
  },
  {
   "cell_type": "code",
   "execution_count": 2,
   "id": "db823127",
   "metadata": {},
   "outputs": [
    {
     "name": "stdout",
     "output_type": "stream",
     "text": [
      "X Data is \n",
      " [[1.799e+01 1.038e+01 1.228e+02 1.001e+03 1.184e-01 2.776e-01 3.001e-01\n",
      "  1.471e-01 2.419e-01 7.871e-02 1.095e+00 9.053e-01 8.589e+00 1.534e+02\n",
      "  6.399e-03 4.904e-02 5.373e-02 1.587e-02 3.003e-02 6.193e-03 2.538e+01\n",
      "  1.733e+01 1.846e+02 2.019e+03 1.622e-01 6.656e-01 7.119e-01 2.654e-01\n",
      "  4.601e-01 1.189e-01]\n",
      " [2.057e+01 1.777e+01 1.329e+02 1.326e+03 8.474e-02 7.864e-02 8.690e-02\n",
      "  7.017e-02 1.812e-01 5.667e-02 5.435e-01 7.339e-01 3.398e+00 7.408e+01\n",
      "  5.225e-03 1.308e-02 1.860e-02 1.340e-02 1.389e-02 3.532e-03 2.499e+01\n",
      "  2.341e+01 1.588e+02 1.956e+03 1.238e-01 1.866e-01 2.416e-01 1.860e-01\n",
      "  2.750e-01 8.902e-02]\n",
      " [1.969e+01 2.125e+01 1.300e+02 1.203e+03 1.096e-01 1.599e-01 1.974e-01\n",
      "  1.279e-01 2.069e-01 5.999e-02 7.456e-01 7.869e-01 4.585e+00 9.403e+01\n",
      "  6.150e-03 4.006e-02 3.832e-02 2.058e-02 2.250e-02 4.571e-03 2.357e+01\n",
      "  2.553e+01 1.525e+02 1.709e+03 1.444e-01 4.245e-01 4.504e-01 2.430e-01\n",
      "  3.613e-01 8.758e-02]\n",
      " [1.142e+01 2.038e+01 7.758e+01 3.861e+02 1.425e-01 2.839e-01 2.414e-01\n",
      "  1.052e-01 2.597e-01 9.744e-02 4.956e-01 1.156e+00 3.445e+00 2.723e+01\n",
      "  9.110e-03 7.458e-02 5.661e-02 1.867e-02 5.963e-02 9.208e-03 1.491e+01\n",
      "  2.650e+01 9.887e+01 5.677e+02 2.098e-01 8.663e-01 6.869e-01 2.575e-01\n",
      "  6.638e-01 1.730e-01]\n",
      " [2.029e+01 1.434e+01 1.351e+02 1.297e+03 1.003e-01 1.328e-01 1.980e-01\n",
      "  1.043e-01 1.809e-01 5.883e-02 7.572e-01 7.813e-01 5.438e+00 9.444e+01\n",
      "  1.149e-02 2.461e-02 5.688e-02 1.885e-02 1.756e-02 5.115e-03 2.254e+01\n",
      "  1.667e+01 1.522e+02 1.575e+03 1.374e-01 2.050e-01 4.000e-01 1.625e-01\n",
      "  2.364e-01 7.678e-02]\n",
      " [1.245e+01 1.570e+01 8.257e+01 4.771e+02 1.278e-01 1.700e-01 1.578e-01\n",
      "  8.089e-02 2.087e-01 7.613e-02 3.345e-01 8.902e-01 2.217e+00 2.719e+01\n",
      "  7.510e-03 3.345e-02 3.672e-02 1.137e-02 2.165e-02 5.082e-03 1.547e+01\n",
      "  2.375e+01 1.034e+02 7.416e+02 1.791e-01 5.249e-01 5.355e-01 1.741e-01\n",
      "  3.985e-01 1.244e-01]\n",
      " [1.825e+01 1.998e+01 1.196e+02 1.040e+03 9.463e-02 1.090e-01 1.127e-01\n",
      "  7.400e-02 1.794e-01 5.742e-02 4.467e-01 7.732e-01 3.180e+00 5.391e+01\n",
      "  4.314e-03 1.382e-02 2.254e-02 1.039e-02 1.369e-02 2.179e-03 2.288e+01\n",
      "  2.766e+01 1.532e+02 1.606e+03 1.442e-01 2.576e-01 3.784e-01 1.932e-01\n",
      "  3.063e-01 8.368e-02]\n",
      " [1.371e+01 2.083e+01 9.020e+01 5.779e+02 1.189e-01 1.645e-01 9.366e-02\n",
      "  5.985e-02 2.196e-01 7.451e-02 5.835e-01 1.377e+00 3.856e+00 5.096e+01\n",
      "  8.805e-03 3.029e-02 2.488e-02 1.448e-02 1.486e-02 5.412e-03 1.706e+01\n",
      "  2.814e+01 1.106e+02 8.970e+02 1.654e-01 3.682e-01 2.678e-01 1.556e-01\n",
      "  3.196e-01 1.151e-01]\n",
      " [1.300e+01 2.182e+01 8.750e+01 5.198e+02 1.273e-01 1.932e-01 1.859e-01\n",
      "  9.353e-02 2.350e-01 7.389e-02 3.063e-01 1.002e+00 2.406e+00 2.432e+01\n",
      "  5.731e-03 3.502e-02 3.553e-02 1.226e-02 2.143e-02 3.749e-03 1.549e+01\n",
      "  3.073e+01 1.062e+02 7.393e+02 1.703e-01 5.401e-01 5.390e-01 2.060e-01\n",
      "  4.378e-01 1.072e-01]\n",
      " [1.246e+01 2.404e+01 8.397e+01 4.759e+02 1.186e-01 2.396e-01 2.273e-01\n",
      "  8.543e-02 2.030e-01 8.243e-02 2.976e-01 1.599e+00 2.039e+00 2.394e+01\n",
      "  7.149e-03 7.217e-02 7.743e-02 1.432e-02 1.789e-02 1.008e-02 1.509e+01\n",
      "  4.068e+01 9.765e+01 7.114e+02 1.853e-01 1.058e+00 1.105e+00 2.210e-01\n",
      "  4.366e-01 2.075e-01]]\n",
      "X shape is  (569, 30)\n",
      "X Features are \n",
      " ['mean radius' 'mean texture' 'mean perimeter' 'mean area'\n",
      " 'mean smoothness' 'mean compactness' 'mean concavity'\n",
      " 'mean concave points' 'mean symmetry' 'mean fractal dimension'\n",
      " 'radius error' 'texture error' 'perimeter error' 'area error'\n",
      " 'smoothness error' 'compactness error' 'concavity error'\n",
      " 'concave points error' 'symmetry error' 'fractal dimension error'\n",
      " 'worst radius' 'worst texture' 'worst perimeter' 'worst area'\n",
      " 'worst smoothness' 'worst compactness' 'worst concavity'\n",
      " 'worst concave points' 'worst symmetry' 'worst fractal dimension']\n",
      "y Data is \n",
      " [0 0 0 0 0 0 0 0 0 0]\n",
      "y shape is  (569,)\n",
      "y Columns are \n",
      " ['malignant' 'benign']\n"
     ]
    }
   ],
   "source": [
    "#load breast cancer data\n",
    "\n",
    "BreastData = load_breast_cancer()\n",
    "\n",
    "#X Data\n",
    "X = BreastData.data\n",
    "print('X Data is \\n' , X[:10])\n",
    "print('X shape is ' , X.shape)\n",
    "print('X Features are \\n' , BreastData.feature_names)\n",
    "\n",
    "#y Data\n",
    "y = BreastData.target\n",
    "print('y Data is \\n' , y[:10])\n",
    "print('y shape is ' , y.shape)\n",
    "print('y Columns are \\n' , BreastData.target_names)"
   ]
  },
  {
   "cell_type": "code",
   "execution_count": 3,
   "id": "fec5b82b",
   "metadata": {},
   "outputs": [
    {
     "name": "stdout",
     "output_type": "stream",
     "text": [
      "X_train shape is  (381, 30)\n",
      "X_test shape is  (188, 30)\n",
      "y_train shape is  (381,)\n",
      "y_test shape is  (188,)\n"
     ]
    }
   ],
   "source": [
    "#Splitting data\n",
    "\n",
    "X_train, X_test, y_train, y_test = train_test_split(X, y, test_size=0.33, random_state=44, shuffle =True)\n",
    "\n",
    "#Splitted Data\n",
    "print('X_train shape is ' , X_train.shape)\n",
    "print('X_test shape is ' , X_test.shape)\n",
    "print('y_train shape is ' , y_train.shape)\n",
    "print('y_test shape is ' , y_test.shape)\n"
   ]
  },
  {
   "cell_type": "code",
   "execution_count": 4,
   "id": "ad57238b",
   "metadata": {},
   "outputs": [
    {
     "name": "stdout",
     "output_type": "stream",
     "text": [
      "DecisionTreeClassifierModel Train Score is :  0.958005249343832\n",
      "DecisionTreeClassifierModel Test Score is :  0.9202127659574468\n",
      "DecisionTreeClassifierModel Classes are :  [0 1]\n"
     ]
    }
   ],
   "source": [
    "#Applying DecisionTreeClassifier Model \n",
    "\n",
    "'''\n",
    "sklearn.tree.DecisionTreeClassifier(criterion='gini’, splitter=’best’, max_depth=None,min_samples_split=2,\n",
    "                                    min_samples_leaf=1,min_weight_fraction_leaf=0.0,max_features=None,\n",
    "                                    random_state=None, max_leaf_nodes=None,min_impurity_decrease=0.0,\n",
    "                                    min_impurity_split=None, class_weight=None,presort=False)\n",
    "'''\n",
    "\n",
    "DecisionTreeClassifierModel = DecisionTreeClassifier(criterion='gini',max_depth=3,random_state=33) #criterion can be entropy\n",
    "DecisionTreeClassifierModel.fit(X_train, y_train)\n",
    "\n",
    "#Calculating Details\n",
    "print('DecisionTreeClassifierModel Train Score is : ' , DecisionTreeClassifierModel.score(X_train, y_train)) #accurancy of traning \".score showes accurancy\"\n",
    "print('DecisionTreeClassifierModel Test Score is : ' , DecisionTreeClassifierModel.score(X_test, y_test)) #accurancy of testing\n",
    "print('DecisionTreeClassifierModel Classes are : ' , DecisionTreeClassifierModel.classes_) #here i show clases i use\n",
    "#print('DecisionTreeClassifierModel feature importances are : ' , DecisionTreeClassifierModel.feature_importances_)"
   ]
  },
  {
   "cell_type": "code",
   "execution_count": 6,
   "id": "5c3279b1",
   "metadata": {},
   "outputs": [
    {
     "name": "stdout",
     "output_type": "stream",
     "text": [
      "Predicted Value for DecisionTreeClassifierModel is :  [1 0 1 0 1 1 1 0 0 1]\n",
      "Prediction Probabilities Value for DecisionTreeClassifierModel is :  [[0.33333333 0.66666667]\n",
      " [1.         0.        ]\n",
      " [0.01408451 0.98591549]\n",
      " [1.         0.        ]\n",
      " [0.33333333 0.66666667]\n",
      " [0.01408451 0.98591549]\n",
      " [0.01408451 0.98591549]\n",
      " [1.         0.        ]\n",
      " [1.         0.        ]\n",
      " [0.01408451 0.98591549]]\n",
      "Actual Value for DecisionTreeRegressorModel is :  [0 0 1 0 1 1 1 1 0 1]\n"
     ]
    }
   ],
   "source": [
    "#Calculating Prediction\n",
    "y_pred = DecisionTreeClassifierModel.predict(X_test)\n",
    "y_pred_prob = DecisionTreeClassifierModel.predict_proba(X_test) #\"القيمه الاحصائيه للتوقع \"سبب ادخاله ف الكلاس\n",
    "print('Predicted Value for DecisionTreeClassifierModel is : ' , y_pred[:10])\n",
    "print('Prediction Probabilities Value for DecisionTreeClassifierModel is : ' , y_pred_prob[:10]) #عرض القيمه الاحصائيه للتوقع\n",
    "\n",
    "#Actual y\n",
    "print('Actual Value for DecisionTreeRegressorModel is : ' , y_test[:10])"
   ]
  },
  {
   "cell_type": "code",
   "execution_count": 7,
   "id": "add1e590",
   "metadata": {},
   "outputs": [
    {
     "name": "stdout",
     "output_type": "stream",
     "text": [
      "Confusion Matrix is : \n",
      " [[ 58  10]\n",
      " [  5 115]]\n"
     ]
    },
    {
     "data": {
      "image/png": "[encoded data removed]",
      "text/plain": [
       "<Figure size 432x288 with 2 Axes>"
      ]
     },
     "metadata": {
      "needs_background": "light"
     },
     "output_type": "display_data"
    }
   ],
   "source": [
    "#using matrix for classification\n",
    "#Calculating Confusion Matrix tp,tn,fp,fn\n",
    "CM = confusion_matrix(y_test, y_pred)\n",
    "print('Confusion Matrix is : \\n', CM)\n",
    "\n",
    "# drawing confusion matrix\n",
    "sns.heatmap(CM, center = True)\n",
    "plt.show()"
   ]
  }
 ],
 "metadata": {
  "kernelspec": {
   "display_name": "Python 3",
   "language": "python",
   "name": "python3"
  },
  "language_info": {
   "codemirror_mode": {
    "name": "ipython",
    "version": 3
   },
   "file_extension": ".py",
   "mimetype": "text/x-python",
   "name": "python",
   "nbconvert_exporter": "python",
   "pygments_lexer": "ipython3",
   "version": "3.8.8"
  }
 },
 "nbformat": 4,
 "nbformat_minor": 5
}
